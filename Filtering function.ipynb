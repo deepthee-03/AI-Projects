{
 "cells": [
  {
   "cell_type": "code",
   "execution_count": 3,
   "id": "c7b60d41-6c86-4207-a653-2f5963c92b52",
   "metadata": {},
   "outputs": [
    {
     "name": "stdout",
     "output_type": "stream",
     "text": [
      "P(R1): [0.5 0.5]\n",
      "[np.float64(0.45), np.float64(0.1)]\n",
      "P(R1|u1): [np.float64(0.8182), np.float64(0.1818)]\n",
      "P(R2|u1): [0.62728 0.37272]\n",
      "[0.564552 0.074544]\n",
      "P(R2|u1,u2): [np.float64(0.8834), np.float64(0.1166)]\n"
     ]
    }
   ],
   "source": [
    "import numpy as np\n",
    "#on day0,we have no observations.Assume that\n",
    "day_0=np.array([0.5,0.5])\n",
    "#on day1,the umbrella appears from t=0 to t=1\n",
    "a=np.array([0.7,0.3])\n",
    "b=np.array([0.3,0.7])\n",
    "p_r1=(a*day_0[0]+b*day_0[1])\n",
    "print(\"P(R1):\",p_r1)\n",
    "#the probability of the evidence for t=1 and normalizes\n",
    "u1=np.array([0.9,0.2])\n",
    "p_r1_given_u1=[u1[0]*p_r1[0]]+[u1[1]*p_r1[1]]\n",
    "print(p_r1_given_u1)\n",
    "c=np.round(p_r1_given_u1[0]/(p_r1_given_u1[0]+p_r1_given_u1[1]),4)\n",
    "d=np.round(p_r1_given_u1[1]/(p_r1_given_u1[0]+p_r1_given_u1[1]),4) \n",
    "print(\"P(R1|u1):\",[c,d])\n",
    "#on day2, the umbrella appears from t=1 to 2\n",
    "p_r2_given_u1=(a*c)+(b*d)\n",
    "print(\"P(R2|u1):\",p_r2_given_u1)\n",
    "#update it with the evidence t=2\n",
    "u2=np.array([0.9,0.2])\n",
    "p_r2_given_u1_u2=(u2*p_r2_given_u1)\n",
    "print(p_r2_given_u1_u2)\n",
    "#the probability of the evidence for t=2 and normalizes\n",
    "e=np.round(p_r2_given_u1_u2[0]/(p_r2_given_u1_u2[0]+p_r2_given_u1_u2[1]), 4)\n",
    "f=np.round(p_r2_given_u1_u2[1]/(p_r2_given_u1_u2[0]+p_r2_given_u1_u2[1]), 4)\n",
    "print(\"P(R2|u1,u2):\",[e,f])"
   ]
  },
  {
   "cell_type": "code",
   "execution_count": null,
   "id": "ffb29122-66d0-4e18-bb41-d4ef9d80d141",
   "metadata": {},
   "outputs": [],
   "source": []
  }
 ],
 "metadata": {
  "kernelspec": {
   "display_name": "Python 3 (ipykernel)",
   "language": "python",
   "name": "python3"
  },
  "language_info": {
   "codemirror_mode": {
    "name": "ipython",
    "version": 3
   },
   "file_extension": ".py",
   "mimetype": "text/x-python",
   "name": "python",
   "nbconvert_exporter": "python",
   "pygments_lexer": "ipython3",
   "version": "3.12.4"
  }
 },
 "nbformat": 4,
 "nbformat_minor": 5
}
